{
 "cells": [
  {
   "cell_type": "code",
   "execution_count": 1,
   "id": "43304ffe",
   "metadata": {},
   "outputs": [
    {
     "name": "stderr",
     "output_type": "stream",
     "text": [
      "WARNING: Ignoring invalid distribution -atplotlib (c:\\users\\singg\\anaconda3\\lib\\site-packages)\n",
      "WARNING: Ignoring invalid distribution -rotobuf (c:\\users\\singg\\anaconda3\\lib\\site-packages)\n",
      "WARNING: Skipping tensorflow as it is not installed.\n",
      "WARNING: Ignoring invalid distribution -atplotlib (c:\\users\\singg\\anaconda3\\lib\\site-packages)\n",
      "WARNING: Ignoring invalid distribution -rotobuf (c:\\users\\singg\\anaconda3\\lib\\site-packages)\n",
      "WARNING: Ignoring invalid distribution -atplotlib (c:\\users\\singg\\anaconda3\\lib\\site-packages)\n",
      "WARNING: Ignoring invalid distribution -rotobuf (c:\\users\\singg\\anaconda3\\lib\\site-packages)\n"
     ]
    },
    {
     "name": "stdout",
     "output_type": "stream",
     "text": [
      "Requirement already satisfied: evaluate in c:\\users\\singg\\anaconda3\\lib\\site-packages (0.4.0)\n",
      "Requirement already satisfied: datasets>=2.0.0 in c:\\users\\singg\\anaconda3\\lib\\site-packages (from evaluate) (2.14.4)\n",
      "Requirement already satisfied: numpy>=1.17 in c:\\users\\singg\\anaconda3\\lib\\site-packages (from evaluate) (1.21.5)\n",
      "Requirement already satisfied: dill in c:\\users\\singg\\anaconda3\\lib\\site-packages (from evaluate) (0.3.7)\n",
      "Requirement already satisfied: pandas in c:\\users\\singg\\anaconda3\\lib\\site-packages (from evaluate) (1.4.4)\n",
      "Requirement already satisfied: requests>=2.19.0 in c:\\users\\singg\\anaconda3\\lib\\site-packages (from evaluate) (2.28.1)\n",
      "Requirement already satisfied: tqdm>=4.62.1 in c:\\users\\singg\\anaconda3\\lib\\site-packages (from evaluate) (4.64.1)\n",
      "Requirement already satisfied: xxhash in c:\\users\\singg\\anaconda3\\lib\\site-packages (from evaluate) (3.3.0)\n",
      "Requirement already satisfied: multiprocess in c:\\users\\singg\\anaconda3\\lib\\site-packages (from evaluate) (0.70.15)\n",
      "Requirement already satisfied: fsspec[http]>=2021.05.0 in c:\\users\\singg\\anaconda3\\lib\\site-packages (from evaluate) (2022.7.1)\n",
      "Requirement already satisfied: huggingface-hub>=0.7.0 in c:\\users\\singg\\anaconda3\\lib\\site-packages (from evaluate) (0.16.4)\n",
      "Requirement already satisfied: packaging in c:\\users\\singg\\anaconda3\\lib\\site-packages (from evaluate) (21.3)\n",
      "Requirement already satisfied: responses<0.19 in c:\\users\\singg\\anaconda3\\lib\\site-packages (from evaluate) (0.18.0)\n",
      "Collecting pyarrow>=8.0.0 (from datasets>=2.0.0->evaluate)\n",
      "  Downloading pyarrow-12.0.1-cp39-cp39-win_amd64.whl (21.5 MB)\n",
      "     ---------------------------------------- 21.5/21.5 MB 9.2 MB/s eta 0:00:00\n",
      "Requirement already satisfied: aiohttp in c:\\users\\singg\\anaconda3\\lib\\site-packages (from datasets>=2.0.0->evaluate) (3.8.5)\n",
      "Requirement already satisfied: pyyaml>=5.1 in c:\\users\\singg\\anaconda3\\lib\\site-packages (from datasets>=2.0.0->evaluate) (6.0)\n",
      "Requirement already satisfied: filelock in c:\\users\\singg\\anaconda3\\lib\\site-packages (from huggingface-hub>=0.7.0->evaluate) (3.6.0)\n",
      "Requirement already satisfied: typing-extensions>=3.7.4.3 in c:\\users\\singg\\anaconda3\\lib\\site-packages (from huggingface-hub>=0.7.0->evaluate) (4.3.0)\n",
      "Requirement already satisfied: pyparsing!=3.0.5,>=2.0.2 in c:\\users\\singg\\anaconda3\\lib\\site-packages (from packaging->evaluate) (3.0.9)\n",
      "Requirement already satisfied: charset-normalizer<3,>=2 in c:\\users\\singg\\anaconda3\\lib\\site-packages (from requests>=2.19.0->evaluate) (2.0.4)\n",
      "Requirement already satisfied: idna<4,>=2.5 in c:\\users\\singg\\anaconda3\\lib\\site-packages (from requests>=2.19.0->evaluate) (3.4)\n",
      "Requirement already satisfied: urllib3<1.27,>=1.21.1 in c:\\users\\singg\\anaconda3\\lib\\site-packages (from requests>=2.19.0->evaluate) (1.26.12)\n",
      "Requirement already satisfied: certifi>=2017.4.17 in c:\\users\\singg\\anaconda3\\lib\\site-packages (from requests>=2.19.0->evaluate) (2023.7.22)\n",
      "Requirement already satisfied: colorama in c:\\users\\singg\\anaconda3\\lib\\site-packages (from tqdm>=4.62.1->evaluate) (0.4.5)\n",
      "Requirement already satisfied: python-dateutil>=2.8.1 in c:\\users\\singg\\anaconda3\\lib\\site-packages (from pandas->evaluate) (2.8.2)\n",
      "Requirement already satisfied: pytz>=2020.1 in c:\\users\\singg\\anaconda3\\lib\\site-packages (from pandas->evaluate) (2022.1)\n",
      "Requirement already satisfied: six>=1.5 in c:\\users\\singg\\anaconda3\\lib\\site-packages (from python-dateutil>=2.8.1->pandas->evaluate) (1.16.0)\n",
      "Requirement already satisfied: attrs>=17.3.0 in c:\\users\\singg\\anaconda3\\lib\\site-packages (from aiohttp->datasets>=2.0.0->evaluate) (21.4.0)\n",
      "Requirement already satisfied: multidict<7.0,>=4.5 in c:\\users\\singg\\anaconda3\\lib\\site-packages (from aiohttp->datasets>=2.0.0->evaluate) (6.0.4)\n",
      "Requirement already satisfied: async-timeout<5.0,>=4.0.0a3 in c:\\users\\singg\\anaconda3\\lib\\site-packages (from aiohttp->datasets>=2.0.0->evaluate) (4.0.3)\n",
      "Requirement already satisfied: yarl<2.0,>=1.0 in c:\\users\\singg\\anaconda3\\lib\\site-packages (from aiohttp->datasets>=2.0.0->evaluate) (1.9.2)\n",
      "Requirement already satisfied: frozenlist>=1.1.1 in c:\\users\\singg\\anaconda3\\lib\\site-packages (from aiohttp->datasets>=2.0.0->evaluate) (1.4.0)\n",
      "Requirement already satisfied: aiosignal>=1.1.2 in c:\\users\\singg\\anaconda3\\lib\\site-packages (from aiohttp->datasets>=2.0.0->evaluate) (1.3.1)\n",
      "Installing collected packages: pyarrow\n",
      "  Attempting uninstall: pyarrow\n",
      "    Found existing installation: pyarrow 6.0.1\n",
      "    Uninstalling pyarrow-6.0.1:\n",
      "      Successfully uninstalled pyarrow-6.0.1\n",
      "Successfully installed pyarrow-12.0.1\n"
     ]
    },
    {
     "name": "stderr",
     "output_type": "stream",
     "text": [
      "WARNING: Ignoring invalid distribution -atplotlib (c:\\users\\singg\\anaconda3\\lib\\site-packages)\n",
      "WARNING: Ignoring invalid distribution -rotobuf (c:\\users\\singg\\anaconda3\\lib\\site-packages)\n",
      "WARNING: Ignoring invalid distribution -atplotlib (c:\\users\\singg\\anaconda3\\lib\\site-packages)\n",
      "WARNING: Ignoring invalid distribution -rotobuf (c:\\users\\singg\\anaconda3\\lib\\site-packages)\n"
     ]
    }
   ],
   "source": [
    "!pip uninstall tensorflow -y\n",
    "!pip  install transformers==4.22.1 -q\n",
    "!pip install evaluate"
   ]
  },
  {
   "cell_type": "code",
   "execution_count": 1,
   "id": "8c2b3ae9",
   "metadata": {},
   "outputs": [],
   "source": [
    "import transformers\n",
    "from transformers import Trainer, TrainingArguments, DistilBertForSequenceClassification, DistilBertTokenizerFast, \\\n",
    "                         DataCollatorWithPadding, pipeline\n",
    "from transformers import DataCollatorWithPadding\n",
    "import evaluate\n",
    "import pandas as pd\n",
    "import numpy as np\n",
    "from sklearn.metrics import confusion_matrix, accuracy_score, precision_score, recall_score, f1_score, \\\n",
    "                            roc_auc_score,ConfusionMatrixDisplay\n",
    "import matplotlib.pyplot as plt\n",
    "import scikitplot as skplt"
   ]
  },
  {
   "cell_type": "code",
   "execution_count": 2,
   "id": "f433668d",
   "metadata": {},
   "outputs": [],
   "source": [
    "import load_data\n",
    "from load_data import Data\n",
    "import train_datasets\n",
    "from train_datasets import Train_dataset"
   ]
  },
  {
   "cell_type": "code",
   "execution_count": 3,
   "id": "dbf36063",
   "metadata": {},
   "outputs": [],
   "source": [
    "def load_dataset():\n",
    "    #Load a datafraom from the Data class from load_data\n",
    "    data.handle_file()\n",
    "    data.convert_json_to_dataframe()\n",
    "    data.get_next_value()\n",
    "    data.compare_values()\n",
    "    data.label_sentences()\n",
    "    data.initial_df()"
   ]
  },
  {
   "cell_type": "code",
   "execution_count": 4,
   "id": "2cb27365",
   "metadata": {},
   "outputs": [],
   "source": [
    "def check_balance(a):\n",
    "    #Checking ratio of values in label variable\n",
    "    a = pd.DataFrame(a)\n",
    "    print(a.value_counts())\n",
    "    print(round(a.value_counts()[0]/len(a)*100,2),\"%\", \":\" , round(a.value_counts()[1]/len(a)*100,2),\"%\", end='\\n')    "
   ]
  },
  {
   "cell_type": "code",
   "execution_count": 5,
   "id": "a25ac409",
   "metadata": {},
   "outputs": [],
   "source": [
    "def preprocess_function(dataset):\n",
    "    #Mapping tokenizer with a dataset\n",
    "    return tokenizer(dataset[\"text\"], truncation=True, max_length=400)"
   ]
  },
  {
   "cell_type": "code",
   "execution_count": 6,
   "id": "f6fd80e8",
   "metadata": {},
   "outputs": [],
   "source": [
    "metric = evaluate.combine([\"accuracy\",\"recall\",\"precision\", \"f1\"])\n",
    "def compute_metrics(eval_pred):\n",
    "    #Setting evaluation metrics\n",
    "    logits, labels = eval_pred\n",
    "    predictions = np.argmax(logits, axis=-1)\n",
    "    return metric.compute(predictions=predictions, references=labels)"
   ]
  },
  {
   "cell_type": "code",
   "execution_count": 7,
   "id": "7a57cb33",
   "metadata": {},
   "outputs": [],
   "source": [
    "def training_model():\n",
    "    #Defining Model and training arguments \n",
    "    #Training model with splitted dataset\n",
    "    uni_labels = ['Continue', \"Change\"]\n",
    "    sequence_clf_model = DistilBertForSequenceClassification.from_pretrained('distilbert-base-cased', num_labels = 2)\n",
    "    sequence_clf_model.config.id2label = {i: l for i, l in enumerate(uni_labels)}\n",
    "    sequence_clf_model.config.dropout =0.2\n",
    "\n",
    "    training_args = TrainingArguments(\n",
    "        output_dir='./results',\n",
    "        num_train_epochs=4,\n",
    "        per_device_train_batch_size=16,\n",
    "        per_device_eval_batch_size=64,\n",
    "        warmup_steps=500,\n",
    "        weight_decay=0.05,\n",
    "        logging_dir='./logs',\n",
    "        load_best_model_at_end=True,\n",
    "        logging_steps=1,\n",
    "        log_level='info',\n",
    "        evaluation_strategy='epoch',\n",
    "        eval_steps=100,\n",
    "        save_strategy='epoch'\n",
    "    )\n",
    "\n",
    "    trainer1 = Trainer(\n",
    "        model=sequence_clf_model,\n",
    "        args=training_args,\n",
    "        train_dataset=tokenized_dataset['train'],\n",
    "        eval_dataset=tokenized_dataset['test1'],\n",
    "        compute_metrics=compute_metrics,\n",
    "        data_collator=data_collator\n",
    "    )\n",
    "\n",
    "    trainer2 = Trainer(\n",
    "        model=sequence_clf_model,\n",
    "        args=training_args,\n",
    "        train_dataset=tokenized_dataset['train'],\n",
    "        eval_dataset=tokenized_dataset['test2'],\n",
    "        compute_metrics=compute_metrics,\n",
    "        data_collator=data_collator\n",
    "    ) \n",
    "    \n",
    "    return trainer1, trainer2"
   ]
  },
  {
   "cell_type": "code",
   "execution_count": 8,
   "id": "80775ec5",
   "metadata": {},
   "outputs": [],
   "source": [
    "def get_predictions(pred_list):\n",
    "    #Getting label values from probabilities\n",
    "    p = []\n",
    "    for pred in pred_list:\n",
    "        if pred[0] > pred[1]:\n",
    "            p.append(0)\n",
    "        else:\n",
    "            p.append(1)        \n",
    "    return p"
   ]
  },
  {
   "cell_type": "code",
   "execution_count": 9,
   "id": "639b5f40",
   "metadata": {},
   "outputs": [],
   "source": [
    "def evaluate_model(labels, prediction, pred):\n",
    "    confusion = confusion_matrix(labels, prediction)\n",
    "    accuracy = accuracy_score(labels, prediction)\n",
    "    precison = precision_score(labels, prediction)\n",
    "    recall = recall_score(labels, prediction)\n",
    "    f1 = f1_score(labels, prediction)\n",
    "    \n",
    "    print(\"accuracy : \",accuracy)\n",
    "    print(\"precison : \", precison)\n",
    "    print(\"recall : \", recall)\n",
    "    print(\"f1 :\", f1)\n",
    "    \n",
    "    disp = ConfusionMatrixDisplay(confusion_matrix=confusion)\n",
    "    disp = disp.plot(cmap=plt.cm.Blues,values_format='g')\n",
    "\n",
    "    skplt.metrics.plot_roc_curve(labels, pred)\n",
    "    plt.show()"
   ]
  },
  {
   "cell_type": "code",
   "execution_count": 10,
   "id": "46a6d149",
   "metadata": {
    "scrolled": false
   },
   "outputs": [
    {
     "name": "stdout",
     "output_type": "stream",
     "text": [
      "['Yes.'\n",
      " \"I'd like to know like the room details and what the hotels offer.\"\n",
      " 'The warm,' 'modern suites offer free Wi-Fi,'\n",
      " 'flat-screen TVs and DVD players.' 'All have desks,'\n",
      " 'sitting areas and kitchens.' 'Amenities include a refined bar/lounge,'\n",
      " 'a 24-hour gym and a 24/7 business center.' ''\n",
      " 'a 24-hour gym and a 24/7 business center.' 'Okay.'\n",
      " 'I definitely want Wi-Fi in my room.' 'Ok great!'\n",
      " \"And I'd also like to ask about the different offerings the hotel has.\"\n",
      " 'A free breakfast buffet is served in the relaxed dining room.'\n",
      " 'All have desks,' 'sitting areas and kitchens.' ''\n",
      " 'sitting areas and kitchens.' 'Okay.'\n",
      " 'I definitely want a hotel with a breakfast.' 'And is that all?'\n",
      " 'I just wanted to make sure it was a two-person room.'\n",
      " 'Yes for 2 to 3 people.' 'Okay.' \"That's it.\"\n",
      " 'The hotel is Staybridge Suites Times Square - New York City.' 'Okay,'\n",
      " 'cool.']\n",
      "[0 1 0 0 0 0 0 0 0 0 1 0 1 1 1 0 0 0 0 1 0 1 1 1 1 0 1 1 0 1]\n",
      "['Yes.', \"Yes. I'd\", \"Yes. I'd like\", \"Yes. I'd like to\", \"Yes. I'd like to know\", \"Yes. I'd like to know like\", \"Yes. I'd like to know like the\", \"Yes. I'd like to know like the room\", \"Yes. I'd like to know like the room details\", \"Yes. I'd like to know like the room details and\", \"Yes. I'd like to know like the room details and what\", \"Yes. I'd like to know like the room details and what the\", \"Yes. I'd like to know like the room details and what the hotels\", \"Yes. I'd like to know like the room details and what the hotels offer.\"]\n",
      "[0, 0, 0, 0, 0, 0, 0, 0, 0, 0, 0, 0, 0, 1]\n",
      "4495\n",
      "4495\n",
      "\n",
      "\n",
      "Initial Data\n"
     ]
    },
    {
     "data": {
      "text/html": [
       "<div>\n",
       "<style scoped>\n",
       "    .dataframe tbody tr th:only-of-type {\n",
       "        vertical-align: middle;\n",
       "    }\n",
       "\n",
       "    .dataframe tbody tr th {\n",
       "        vertical-align: top;\n",
       "    }\n",
       "\n",
       "    .dataframe thead th {\n",
       "        text-align: right;\n",
       "    }\n",
       "</style>\n",
       "<table border=\"1\" class=\"dataframe\">\n",
       "  <thead>\n",
       "    <tr style=\"text-align: right;\">\n",
       "      <th></th>\n",
       "      <th>text</th>\n",
       "      <th>label</th>\n",
       "      <th>count</th>\n",
       "    </tr>\n",
       "  </thead>\n",
       "  <tbody>\n",
       "    <tr>\n",
       "      <th>0</th>\n",
       "      <td>Hello!</td>\n",
       "      <td>0</td>\n",
       "      <td>1</td>\n",
       "    </tr>\n",
       "    <tr>\n",
       "      <th>1</th>\n",
       "      <td>How can I help you?</td>\n",
       "      <td>1</td>\n",
       "      <td>5</td>\n",
       "    </tr>\n",
       "    <tr>\n",
       "      <th>2</th>\n",
       "      <td>Hi,</td>\n",
       "      <td>0</td>\n",
       "      <td>1</td>\n",
       "    </tr>\n",
       "  </tbody>\n",
       "</table>\n",
       "</div>"
      ],
      "text/plain": [
       "                  text  label  count\n",
       "0               Hello!      0      1\n",
       "1  How can I help you?      1      5\n",
       "2                  Hi,      0      1"
      ]
     },
     "metadata": {},
     "output_type": "display_data"
    },
    {
     "name": "stdout",
     "output_type": "stream",
     "text": [
      "(105030, 3)\n",
      "0    53659\n",
      "1    51371\n",
      "Name: label, dtype: int64\n",
      "\n",
      "\n",
      "Dataset to be used for modeling\n",
      "(5000, 3)\n"
     ]
    },
    {
     "data": {
      "text/html": [
       "<div>\n",
       "<style scoped>\n",
       "    .dataframe tbody tr th:only-of-type {\n",
       "        vertical-align: middle;\n",
       "    }\n",
       "\n",
       "    .dataframe tbody tr th {\n",
       "        vertical-align: top;\n",
       "    }\n",
       "\n",
       "    .dataframe thead th {\n",
       "        text-align: right;\n",
       "    }\n",
       "</style>\n",
       "<table border=\"1\" class=\"dataframe\">\n",
       "  <thead>\n",
       "    <tr style=\"text-align: right;\">\n",
       "      <th></th>\n",
       "      <th>text</th>\n",
       "      <th>label</th>\n",
       "      <th>count</th>\n",
       "    </tr>\n",
       "  </thead>\n",
       "  <tbody>\n",
       "    <tr>\n",
       "      <th>5000</th>\n",
       "      <td>Yes.</td>\n",
       "      <td>0</td>\n",
       "      <td>1</td>\n",
       "    </tr>\n",
       "    <tr>\n",
       "      <th>5001</th>\n",
       "      <td>I'd like to know like the room details and wha...</td>\n",
       "      <td>1</td>\n",
       "      <td>13</td>\n",
       "    </tr>\n",
       "    <tr>\n",
       "      <th>5002</th>\n",
       "      <td>The warm,</td>\n",
       "      <td>0</td>\n",
       "      <td>2</td>\n",
       "    </tr>\n",
       "    <tr>\n",
       "      <th>5003</th>\n",
       "      <td>modern suites offer free Wi-Fi,</td>\n",
       "      <td>0</td>\n",
       "      <td>5</td>\n",
       "    </tr>\n",
       "    <tr>\n",
       "      <th>5004</th>\n",
       "      <td>flat-screen TVs and DVD players.</td>\n",
       "      <td>0</td>\n",
       "      <td>5</td>\n",
       "    </tr>\n",
       "  </tbody>\n",
       "</table>\n",
       "</div>"
      ],
      "text/plain": [
       "                                                   text  label  count\n",
       "5000                                               Yes.      0      1\n",
       "5001  I'd like to know like the room details and wha...      1     13\n",
       "5002                                          The warm,      0      2\n",
       "5003                    modern suites offer free Wi-Fi,      0      5\n",
       "5004                   flat-screen TVs and DVD players.      0      5"
      ]
     },
     "metadata": {},
     "output_type": "display_data"
    },
    {
     "name": "stdout",
     "output_type": "stream",
     "text": [
      "\n",
      "\n",
      "Sentences\n",
      "['Yes.', \"I'd like to know like the room details and what the hotels offer.\", 'The warm,', 'modern suites offer free Wi-Fi,', 'flat-screen TVs and DVD players.', 'All have desks,', 'sitting areas and kitchens.', 'Amenities include a refined bar/lounge,', 'a 24-hour gym and a 24/7 business center.', 'a 24-hour gym and a 24/7 business center.']\n",
      "Tokenized sentences\n",
      "['Yes.', \"I'd\", 'like', 'to', 'know', 'like', 'the', 'room', 'details', 'and', 'what', 'the', 'hotels', 'offer.', 'The', 'warm,', 'modern', 'suites', 'offer', 'free']\n",
      "Labels\n",
      "[0, 0, 0, 0, 0, 0, 0, 0, 0, 0, 0, 0, 0, 1, 0, 0, 0, 0, 0, 0]\n",
      "length of train_dataset.sequences 22760\n",
      "length of train_dataset.labels 22760\n",
      "length of train_dataset.sequences 27255\n",
      "length of train_dataset.labels 27255\n",
      "\n",
      "\n",
      "Generated Sequences\n",
      "['Yes.', \"Yes. I'd\", \"Yes. I'd like\", \"Yes. I'd like to\", \"Yes. I'd like to know\", \"Yes. I'd like to know like\", \"Yes. I'd like to know like the\", \"Yes. I'd like to know like the room\", \"Yes. I'd like to know like the room details\", \"Yes. I'd like to know like the room details and\"]\n",
      "Lables for each sequences\n",
      "[0, 0, 0, 0, 0, 0, 0, 0, 0, 0]\n",
      "The number of generated Sequences\n",
      "27255\n",
      "\n",
      "\n",
      "Datasets for training and evaluating models\n",
      "DatasetDict({\n",
      "    train: Dataset({\n",
      "        features: ['label', 'text'],\n",
      "        num_rows: 16353\n",
      "    })\n",
      "    test1: Dataset({\n",
      "        features: ['label', 'text'],\n",
      "        num_rows: 5451\n",
      "    })\n",
      "    test2: Dataset({\n",
      "        features: ['label', 'text'],\n",
      "        num_rows: 5451\n",
      "    })\n",
      "})\n",
      "\n",
      "Checking the value ratio of the label variable\n",
      "train dataset\n",
      "0    12251\n",
      "1     4102\n",
      "dtype: int64\n",
      "74.92 % : 25.08 %\n",
      "validation dataset\n",
      "0    4042\n",
      "1    1409\n",
      "dtype: int64\n",
      "74.15 % : 25.85 %\n",
      "test dataset\n",
      "0    4066\n",
      "1    1385\n",
      "dtype: int64\n",
      "74.59 % : 25.41 %\n"
     ]
    },
    {
     "data": {
      "application/vnd.jupyter.widget-view+json": {
       "model_id": "247f62f86eb545339074b0ec50a0ac3e",
       "version_major": 2,
       "version_minor": 0
      },
      "text/plain": [
       "Map:   0%|          | 0/16353 [00:00<?, ? examples/s]"
      ]
     },
     "metadata": {},
     "output_type": "display_data"
    },
    {
     "data": {
      "application/vnd.jupyter.widget-view+json": {
       "model_id": "70639605d6d54f5f9ed1298a34cc90b8",
       "version_major": 2,
       "version_minor": 0
      },
      "text/plain": [
       "Map:   0%|          | 0/5451 [00:00<?, ? examples/s]"
      ]
     },
     "metadata": {},
     "output_type": "display_data"
    },
    {
     "data": {
      "application/vnd.jupyter.widget-view+json": {
       "model_id": "b1df78834ce84a69b9fdbfa01f245974",
       "version_major": 2,
       "version_minor": 0
      },
      "text/plain": [
       "Map:   0%|          | 0/5451 [00:00<?, ? examples/s]"
      ]
     },
     "metadata": {},
     "output_type": "display_data"
    },
    {
     "name": "stdout",
     "output_type": "stream",
     "text": [
      "\n",
      "\n",
      "Converted Sequences\n",
      "{'label': 0, 'text': 'The second is called stanford court hotel.', 'input_ids': [101, 1109, 1248, 1110, 1270, 188, 5108, 2821, 2175, 3415, 119, 102], 'attention_mask': [1, 1, 1, 1, 1, 1, 1, 1, 1, 1, 1, 1]}\n",
      "\n"
     ]
    },
    {
     "name": "stderr",
     "output_type": "stream",
     "text": [
      "Some weights of the model checkpoint at distilbert-base-cased were not used when initializing DistilBertForSequenceClassification: ['vocab_layer_norm.bias', 'vocab_projector.weight', 'vocab_transform.weight', 'vocab_transform.bias', 'vocab_projector.bias', 'vocab_layer_norm.weight']\n",
      "- This IS expected if you are initializing DistilBertForSequenceClassification from the checkpoint of a model trained on another task or with another architecture (e.g. initializing a BertForSequenceClassification model from a BertForPreTraining model).\n",
      "- This IS NOT expected if you are initializing DistilBertForSequenceClassification from the checkpoint of a model that you expect to be exactly identical (initializing a BertForSequenceClassification model from a BertForSequenceClassification model).\n",
      "Some weights of DistilBertForSequenceClassification were not initialized from the model checkpoint at distilbert-base-cased and are newly initialized: ['pre_classifier.weight', 'classifier.bias', 'classifier.weight', 'pre_classifier.bias']\n",
      "You should probably TRAIN this model on a down-stream task to be able to use it for predictions and inference.\n",
      "The following columns in the training set don't have a corresponding argument in `DistilBertForSequenceClassification.forward` and have been ignored: text. If text are not expected by `DistilBertForSequenceClassification.forward`,  you can safely ignore this message.\n",
      "C:\\Users\\singg\\anaconda3\\lib\\site-packages\\transformers\\optimization.py:306: FutureWarning: This implementation of AdamW is deprecated and will be removed in a future version. Use the PyTorch implementation torch.optim.AdamW instead, or set `no_deprecation_warning=True` to disable this warning\n",
      "  warnings.warn(\n",
      "***** Running training *****\n",
      "  Num examples = 16353\n",
      "  Num Epochs = 4\n",
      "  Instantaneous batch size per device = 16\n",
      "  Total train batch size (w. parallel, distributed & accumulation) = 16\n",
      "  Gradient Accumulation steps = 1\n",
      "  Total optimization steps = 4092\n",
      "You're using a DistilBertTokenizerFast tokenizer. Please note that with a fast tokenizer, using the `__call__` method is faster than using a method to encode the text followed by a call to the `pad` method to get a padded encoding.\n"
     ]
    },
    {
     "data": {
      "text/html": [
       "\n",
       "    <div>\n",
       "      \n",
       "      <progress value='4092' max='4092' style='width:300px; height:20px; vertical-align: middle;'></progress>\n",
       "      [4092/4092 4:22:08, Epoch 4/4]\n",
       "    </div>\n",
       "    <table border=\"1\" class=\"dataframe\">\n",
       "  <thead>\n",
       " <tr style=\"text-align: left;\">\n",
       "      <th>Epoch</th>\n",
       "      <th>Training Loss</th>\n",
       "      <th>Validation Loss</th>\n",
       "      <th>Accuracy</th>\n",
       "      <th>Recall</th>\n",
       "      <th>Precision</th>\n",
       "      <th>F1</th>\n",
       "    </tr>\n",
       "  </thead>\n",
       "  <tbody>\n",
       "    <tr>\n",
       "      <td>1</td>\n",
       "      <td>0.000100</td>\n",
       "      <td>0.108463</td>\n",
       "      <td>0.956889</td>\n",
       "      <td>0.998581</td>\n",
       "      <td>0.857927</td>\n",
       "      <td>0.922926</td>\n",
       "    </tr>\n",
       "    <tr>\n",
       "      <td>2</td>\n",
       "      <td>0.000400</td>\n",
       "      <td>0.106346</td>\n",
       "      <td>0.956889</td>\n",
       "      <td>0.978708</td>\n",
       "      <td>0.870581</td>\n",
       "      <td>0.921483</td>\n",
       "    </tr>\n",
       "    <tr>\n",
       "      <td>3</td>\n",
       "      <td>0.014600</td>\n",
       "      <td>0.114082</td>\n",
       "      <td>0.957622</td>\n",
       "      <td>0.986515</td>\n",
       "      <td>0.867665</td>\n",
       "      <td>0.923281</td>\n",
       "    </tr>\n",
       "    <tr>\n",
       "      <td>4</td>\n",
       "      <td>0.000000</td>\n",
       "      <td>0.131740</td>\n",
       "      <td>0.955238</td>\n",
       "      <td>0.950319</td>\n",
       "      <td>0.884997</td>\n",
       "      <td>0.916496</td>\n",
       "    </tr>\n",
       "  </tbody>\n",
       "</table><p>"
      ],
      "text/plain": [
       "<IPython.core.display.HTML object>"
      ]
     },
     "metadata": {},
     "output_type": "display_data"
    },
    {
     "name": "stderr",
     "output_type": "stream",
     "text": [
      "The following columns in the evaluation set don't have a corresponding argument in `DistilBertForSequenceClassification.forward` and have been ignored: text. If text are not expected by `DistilBertForSequenceClassification.forward`,  you can safely ignore this message.\n",
      "***** Running Evaluation *****\n",
      "  Num examples = 5451\n",
      "  Batch size = 64\n",
      "Saving model checkpoint to ./results\\checkpoint-1023\n",
      "Configuration saved in ./results\\checkpoint-1023\\config.json\n",
      "Model weights saved in ./results\\checkpoint-1023\\pytorch_model.bin\n",
      "The following columns in the evaluation set don't have a corresponding argument in `DistilBertForSequenceClassification.forward` and have been ignored: text. If text are not expected by `DistilBertForSequenceClassification.forward`,  you can safely ignore this message.\n",
      "***** Running Evaluation *****\n",
      "  Num examples = 5451\n",
      "  Batch size = 64\n",
      "Saving model checkpoint to ./results\\checkpoint-2046\n",
      "Configuration saved in ./results\\checkpoint-2046\\config.json\n",
      "Model weights saved in ./results\\checkpoint-2046\\pytorch_model.bin\n",
      "The following columns in the evaluation set don't have a corresponding argument in `DistilBertForSequenceClassification.forward` and have been ignored: text. If text are not expected by `DistilBertForSequenceClassification.forward`,  you can safely ignore this message.\n",
      "***** Running Evaluation *****\n",
      "  Num examples = 5451\n",
      "  Batch size = 64\n",
      "Saving model checkpoint to ./results\\checkpoint-3069\n",
      "Configuration saved in ./results\\checkpoint-3069\\config.json\n",
      "Model weights saved in ./results\\checkpoint-3069\\pytorch_model.bin\n",
      "The following columns in the evaluation set don't have a corresponding argument in `DistilBertForSequenceClassification.forward` and have been ignored: text. If text are not expected by `DistilBertForSequenceClassification.forward`,  you can safely ignore this message.\n",
      "***** Running Evaluation *****\n",
      "  Num examples = 5451\n",
      "  Batch size = 64\n",
      "Saving model checkpoint to ./results\\checkpoint-4092\n",
      "Configuration saved in ./results\\checkpoint-4092\\config.json\n",
      "Model weights saved in ./results\\checkpoint-4092\\pytorch_model.bin\n",
      "\n",
      "\n",
      "Training completed. Do not forget to share your model on huggingface.co/models =)\n",
      "\n",
      "\n",
      "Loading best model from ./results\\checkpoint-2046 (score: 0.10634559392929077).\n",
      "Saving model checkpoint to ./model/test_bert_distilbert_seq_token\n",
      "Configuration saved in ./model/test_bert_distilbert_seq_token\\config.json\n",
      "Model weights saved in ./model/test_bert_distilbert_seq_token\\pytorch_model.bin\n",
      "The following columns in the test set don't have a corresponding argument in `DistilBertForSequenceClassification.forward` and have been ignored: text. If text are not expected by `DistilBertForSequenceClassification.forward`,  you can safely ignore this message.\n",
      "***** Running Prediction *****\n",
      "  Num examples = 5451\n",
      "  Batch size = 64\n"
     ]
    },
    {
     "data": {
      "text/html": [],
      "text/plain": [
       "<IPython.core.display.HTML object>"
      ]
     },
     "metadata": {},
     "output_type": "display_data"
    },
    {
     "name": "stdout",
     "output_type": "stream",
     "text": [
      "accuracy :  0.9568886442854522\n",
      "precison :  0.8705808080808081\n",
      "recall :  0.978708303761533\n",
      "f1 : 0.9214834614099566\n"
     ]
    },
    {
     "name": "stderr",
     "output_type": "stream",
     "text": [
      "C:\\Users\\singg\\anaconda3\\lib\\site-packages\\sklearn\\utils\\deprecation.py:87: FutureWarning: Function plot_roc_curve is deprecated; This will be removed in v0.5.0. Please use scikitplot.metrics.plot_roc instead.\n",
      "  warnings.warn(msg, category=FutureWarning)\n"
     ]
    },
    {
     "data": {
      "image/png": "[encoded data removed]",
      "text/plain": [
       "<Figure size 640x480 with 2 Axes>"
      ]
     },
     "metadata": {},
     "output_type": "display_data"
    },
    {
     "data": {
      "image/png": "[encoded data removed]",
      "text/plain": [
       "<Figure size 640x480 with 1 Axes>"
      ]
     },
     "metadata": {},
     "output_type": "display_data"
    }
   ],
   "source": [
    "if __name__ == '__main__':\n",
    "    #=============================================\n",
    "    #Generating additional data with label 1======================\n",
    "    path ='hotels.json'\n",
    "    data = Data(path)\n",
    "    load_dataset()\n",
    "    df = data.df.to_json(\"df.json\")\n",
    "\n",
    "    t = data.df.copy()\n",
    "    t = t[5000:14500]\n",
    "\n",
    "    #Splitting setences to tokens and labeling tokens\n",
    "    train_dataset = Train_dataset(t) \n",
    "    train_dataset.test_text = t['text'].values\n",
    "    train_dataset.test_label = t['label'].values\n",
    "    print(train_dataset.test_text[:30])\n",
    "    print(train_dataset.test_label[:30])\n",
    "\n",
    "    train_dataset.split_token_sentences()\n",
    "    train_dataset.tokenized_text_label = train_dataset.flatten_list(train_dataset.tokenized_text_label)\n",
    "    train_dataset.tokenized_text = train_dataset.flatten_list(train_dataset.tokenized_text)\n",
    "    train_dataset.generate_test_dataset()\n",
    "\n",
    "    print(train_dataset.sequences[:14])\n",
    "    print(train_dataset.labels[:14])\n",
    "\n",
    "    text_shift = []\n",
    "    label_shift = []\n",
    "\n",
    "    for i, l in enumerate(train_dataset.labels):\n",
    "        if l == 1:\n",
    "            text_shift.append(train_dataset.sequences[i])\n",
    "            label_shift.append(l)\n",
    "        \n",
    "    print(len(text_shift))\n",
    "    print(len(label_shift))\n",
    "\n",
    "    #============================================\n",
    "    #Generate a df from Data class from data_load\n",
    "    #A df contains \"texc\" column a sentence per a row and their lables(0: continue, 1: change)\n",
    "    data = Data(path)\n",
    "    load_dataset()\n",
    "    print(\"\\n\\nInitial Data\")\n",
    "    display(data.df[:3])\n",
    "    print(data.df.shape)\n",
    "    print(data.df['label'].value_counts())\n",
    "    #save initial df as a json file\n",
    "    df = data.df.to_json(\"df.json\")\n",
    "\n",
    "    #============================================\n",
    "    #Preprocessing data for modeling\n",
    "    #t = df.copy()\n",
    "    t = t[:5000]\n",
    "    #4000 rows were used which will generate sequences.\n",
    "    print(\"\\n\\nDataset to be used for modeling\")\n",
    "    print(t.shape)\n",
    "    display(t[:5])\n",
    "    #Converting columns to list for tokenizing\n",
    "\n",
    "    #Splitting setences to tokens and labeling tokens\n",
    "    train_dataset = Train_dataset(t) \n",
    "    train_dataset.test_text = t['text'].values\n",
    "    train_dataset.test_label = t['label'].values\n",
    "    \n",
    "    train_dataset.split_token_sentences()\n",
    "    train_dataset.tokenized_text_label = train_dataset.flatten_list(train_dataset.tokenized_text_label)\n",
    "    train_dataset.tokenized_text = train_dataset.flatten_list(train_dataset.tokenized_text)\n",
    "    print(\"\\n\\nSentences\")\n",
    "    print(train_dataset.text[:10])\n",
    "    print(\"Tokenized sentences\")\n",
    "    print(train_dataset.tokenized_text[:20])\n",
    "    print(\"Labels\")\n",
    "    print(train_dataset.tokenized_text_label[:20])\n",
    "\n",
    "    #Generating sequnces to be used for training by combining tokens and labeling the sequences\n",
    "    train_dataset.generate_test_dataset()\n",
    "    print(\"length of train_dataset.sequences\", len(train_dataset.sequences))\n",
    "    print(\"length of train_dataset.labels\", len(train_dataset.labels))\n",
    "    \n",
    "    #Add additional data with label 1    \n",
    "    p = train_dataset.sequences\n",
    "    p.extend(text_shift)\n",
    "    train_dataset.sequences = p\n",
    "    q=train_dataset.labels\n",
    "    q.extend(label_shift)\n",
    "    train_dataset.labels =q\n",
    "    print(\"length of train_dataset.sequences\", len(train_dataset.sequences))\n",
    "    print(\"length of train_dataset.labels\", len(train_dataset.labels))\n",
    "    \n",
    "    print(\"\\n\\nGenerated Sequences\")\n",
    "    print(train_dataset.sequences[:10])\n",
    "    print(\"Lables for each sequences\")\n",
    "    print(train_dataset.labels[:10])\n",
    "    print(\"The number of generated Sequences\")\n",
    "    print(len(train_dataset.sequences))\n",
    "\n",
    "    #Generating datasets for training, vaildating and testing\n",
    "    train_dataset.datasets_for_training()\n",
    "    print(\"\\n\\nDatasets for training and evaluating models\")\n",
    "    print(train_dataset.dataset, end=\"\\n\\n\")\n",
    "\n",
    "    #Applying DistilBertTokenizerFast for DistilBert model\n",
    "    dataset = train_dataset.dataset\n",
    "    \n",
    "    print(\"Checking the value ratio of the label variable\")\n",
    "    print(\"train dataset\")\n",
    "    check_balance(dataset['train']['label'])\n",
    "    print(\"validation dataset\")\n",
    "    check_balance(dataset['test1']['label'])\n",
    "    print(\"test dataset\")\n",
    "    check_balance(dataset['test2']['label'])\n",
    "\n",
    "    tokenizer = DistilBertTokenizerFast.from_pretrained('distilbert-base-cased', ignore_mismatched_sizes=True)\n",
    "    tokenized_dataset = dataset.map(preprocess_function, batched=True)\n",
    "    print(\"\\n\\nConverted Sequences\")\n",
    "    print(tokenized_dataset['train'][15], end=\"\\n\\n\")\n",
    "\n",
    "    #padding dataset\n",
    "    data_collator = DataCollatorWithPadding(tokenizer=tokenizer)\n",
    "\n",
    "    \n",
    "    #training and saving models\n",
    "    trainer1, trainer2 = training_model()\n",
    "    \n",
    "    #trainer1.evaluate()\n",
    "    #tarining modesl with preprocessed dataset\n",
    "    trainer1.train()    \n",
    "    trainer1.save_model('./model/test_bert_distilbert_seq_token')\n",
    "    \n",
    "    prediction1 = trainer1.predict(trainer1.eval_dataset)\n",
    "    pred  = list(prediction1[0])\n",
    "    labels  = list(prediction1[1])\n",
    "    prediction = get_predictions(pred)\n",
    "    evaluate_model(labels, prediction, pred)\n",
    "    #evaluation trained model\n",
    "    #trainer1.evaluate()\n",
    "    #evaluation model with another dataset\n",
    "    #trainer2.evaluate()"
   ]
  },
  {
   "cell_type": "code",
   "execution_count": null,
   "id": "0c934f8b",
   "metadata": {},
   "outputs": [],
   "source": []
  },
  {
   "cell_type": "code",
   "execution_count": 11,
   "id": "c0252d59",
   "metadata": {},
   "outputs": [
    {
     "name": "stderr",
     "output_type": "stream",
     "text": [
      "The following columns in the evaluation set don't have a corresponding argument in `DistilBertForSequenceClassification.forward` and have been ignored: text. If text are not expected by `DistilBertForSequenceClassification.forward`,  you can safely ignore this message.\n",
      "***** Running Evaluation *****\n",
      "  Num examples = 5451\n",
      "  Batch size = 64\n"
     ]
    },
    {
     "data": {
      "text/html": [
       "\n",
       "    <div>\n",
       "      \n",
       "      <progress value='86' max='86' style='width:300px; height:20px; vertical-align: middle;'></progress>\n",
       "      [86/86 10:39]\n",
       "    </div>\n",
       "    "
      ],
      "text/plain": [
       "<IPython.core.display.HTML object>"
      ]
     },
     "metadata": {},
     "output_type": "display_data"
    },
    {
     "data": {
      "text/plain": [
       "{'eval_loss': 0.09380971640348434,\n",
       " 'eval_accuracy': 0.9618418638781875,\n",
       " 'eval_recall': 0.9870036101083033,\n",
       " 'eval_precision': 0.8779704560051381,\n",
       " 'eval_f1': 0.929299796057104,\n",
       " 'eval_runtime': 644.3271,\n",
       " 'eval_samples_per_second': 8.46,\n",
       " 'eval_steps_per_second': 0.133}"
      ]
     },
     "execution_count": 11,
     "metadata": {},
     "output_type": "execute_result"
    }
   ],
   "source": [
    "trainer2.evaluate()"
   ]
  },
  {
   "cell_type": "code",
   "execution_count": null,
   "id": "824ace68",
   "metadata": {},
   "outputs": [],
   "source": []
  }
 ],
 "metadata": {
  "kernelspec": {
   "display_name": "Python 3 (ipykernel)",
   "language": "python",
   "name": "python3"
  },
  "language_info": {
   "codemirror_mode": {
    "name": "ipython",
    "version": 3
   },
   "file_extension": ".py",
   "mimetype": "text/x-python",
   "name": "python",
   "nbconvert_exporter": "python",
   "pygments_lexer": "ipython3",
   "version": "3.9.7"
  }
 },
 "nbformat": 4,
 "nbformat_minor": 5
}
