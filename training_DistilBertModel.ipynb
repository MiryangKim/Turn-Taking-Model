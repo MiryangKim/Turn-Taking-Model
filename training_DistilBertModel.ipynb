{
 "cells": [
  {
   "cell_type": "code",
   "execution_count": null,
   "id": "43304ffe",
   "metadata": {},
   "outputs": [],
   "source": [
    "#!pip uninstall tensorflow -y\n",
    "#!pip  install transformers==4.22.1 -q\n",
    "#!pip install evaluate"
   ]
  },
  {
   "cell_type": "code",
   "execution_count": 1,
   "id": "8c2b3ae9",
   "metadata": {},
   "outputs": [],
   "source": [
    "import transformers\n",
    "from transformers import Trainer, TrainingArguments, DistilBertForSequenceClassification, DistilBertTokenizerFast, \\\n",
    "     DataCollatorWithPadding, pipeline\n",
    "from transformers import DataCollatorWithPadding\n",
    "import evaluate\n",
    "import pandas as pd\n",
    "import numpy as np"
   ]
  },
  {
   "cell_type": "code",
   "execution_count": 2,
   "id": "f433668d",
   "metadata": {},
   "outputs": [],
   "source": [
    "import load_data\n",
    "from load_data import Data\n",
    "import train_datasets\n",
    "from train_datasets import Train_dataset"
   ]
  },
  {
   "cell_type": "code",
   "execution_count": 3,
   "id": "dbf36063",
   "metadata": {},
   "outputs": [],
   "source": [
    "def load_dataset():\n",
    "    #Load a datafraom from the Data class from load_data\n",
    "    data.handle_file()\n",
    "    data.convert_json_to_dataframe()\n",
    "    data.get_next_value()\n",
    "    data.compare_values()\n",
    "    data.label_sentences()\n",
    "    data.initial_df()"
   ]
  },
  {
   "cell_type": "code",
   "execution_count": 4,
   "id": "a25ac409",
   "metadata": {},
   "outputs": [],
   "source": [
    "def preprocess_function(dataset):\n",
    "    #Mapping tokenizer with a dataset\n",
    "    return tokenizer(dataset[\"text\"], truncation=True, max_length=400)"
   ]
  },
  {
   "cell_type": "code",
   "execution_count": 5,
   "id": "f6fd80e8",
   "metadata": {},
   "outputs": [],
   "source": [
    "metric = evaluate.load(\"accuracy\")\n",
    "def compute_metrics(eval_pred):\n",
    "    #Setting evaluation metrics\n",
    "    logits, labels = eval_pred\n",
    "    predictions = np.argmax(logits, axis=-1)\n",
    "    return metric.compute(predictions=predictions, references=labels)"
   ]
  },
  {
   "cell_type": "code",
   "execution_count": 6,
   "id": "7a57cb33",
   "metadata": {},
   "outputs": [],
   "source": [
    "def training_model():\n",
    "    #Defining Model and training arguments \n",
    "    #Training model with splitted dataset\n",
    "    uni_labels = ['Continue', \"Change\"]\n",
    "    sequence_clf_model = DistilBertForSequenceClassification.from_pretrained('distilbert-base-uncased', num_labels = 2)\n",
    "    sequence_clf_model.config.id2label = {i: l for i, l in enumerate(uni_labels)}\n",
    "    sequence_clf_model.config.dropout =0.2\n",
    "\n",
    "    training_args = TrainingArguments(\n",
    "        output_dir='./results',\n",
    "        num_train_epochs=2,\n",
    "        per_device_train_batch_size=16,\n",
    "        per_device_eval_batch_size=64,\n",
    "        warmup_steps=500,\n",
    "        weight_decay=0.05,\n",
    "        logging_dir='./logs',\n",
    "        load_best_model_at_end=True,\n",
    "        logging_steps=1,\n",
    "        log_level='info',\n",
    "        evaluation_strategy='epoch',\n",
    "        eval_steps=100,\n",
    "        save_strategy='epoch'\n",
    "    )\n",
    "\n",
    "    trainer1 = Trainer(\n",
    "        model=sequence_clf_model,\n",
    "        args=training_args,\n",
    "        train_dataset=tokenized_dataset['train'],\n",
    "        eval_dataset=tokenized_dataset['test1'],\n",
    "        compute_metrics=compute_metrics,\n",
    "        data_collator=data_collator\n",
    "    )\n",
    "\n",
    "    trainer2 = Trainer(\n",
    "        model=sequence_clf_model,\n",
    "        args=training_args,\n",
    "        train_dataset=tokenized_dataset['train'],\n",
    "        eval_dataset=tokenized_dataset['test2'],\n",
    "        compute_metrics=compute_metrics,\n",
    "        data_collator=data_collator\n",
    "    ) \n",
    "    \n",
    "    return trainer1, trainer2"
   ]
  },
  {
   "cell_type": "code",
   "execution_count": 7,
   "id": "46a6d149",
   "metadata": {
    "scrolled": false
   },
   "outputs": [
    {
     "name": "stdout",
     "output_type": "stream",
     "text": [
      "\n",
      "\n",
      "Initial Data\n"
     ]
    },
    {
     "data": {
      "text/html": [
       "<div>\n",
       "<style scoped>\n",
       "    .dataframe tbody tr th:only-of-type {\n",
       "        vertical-align: middle;\n",
       "    }\n",
       "\n",
       "    .dataframe tbody tr th {\n",
       "        vertical-align: top;\n",
       "    }\n",
       "\n",
       "    .dataframe thead th {\n",
       "        text-align: right;\n",
       "    }\n",
       "</style>\n",
       "<table border=\"1\" class=\"dataframe\">\n",
       "  <thead>\n",
       "    <tr style=\"text-align: right;\">\n",
       "      <th></th>\n",
       "      <th>text</th>\n",
       "      <th>label</th>\n",
       "      <th>count</th>\n",
       "    </tr>\n",
       "  </thead>\n",
       "  <tbody>\n",
       "    <tr>\n",
       "      <th>0</th>\n",
       "      <td>Hello!</td>\n",
       "      <td>0</td>\n",
       "      <td>1</td>\n",
       "    </tr>\n",
       "    <tr>\n",
       "      <th>1</th>\n",
       "      <td>How can I help you?</td>\n",
       "      <td>1</td>\n",
       "      <td>5</td>\n",
       "    </tr>\n",
       "    <tr>\n",
       "      <th>2</th>\n",
       "      <td>Hi,</td>\n",
       "      <td>0</td>\n",
       "      <td>1</td>\n",
       "    </tr>\n",
       "  </tbody>\n",
       "</table>\n",
       "</div>"
      ],
      "text/plain": [
       "                  text  label  count\n",
       "0               Hello!      0      1\n",
       "1  How can I help you?      1      5\n",
       "2                  Hi,      0      1"
      ]
     },
     "metadata": {},
     "output_type": "display_data"
    },
    {
     "name": "stdout",
     "output_type": "stream",
     "text": [
      "(105030, 3)\n",
      "0    53659\n",
      "1    51371\n",
      "Name: label, dtype: int64\n",
      "\n",
      "\n",
      "Dataset to be used for modeling\n",
      "(4000, 3)\n"
     ]
    },
    {
     "data": {
      "text/html": [
       "<div>\n",
       "<style scoped>\n",
       "    .dataframe tbody tr th:only-of-type {\n",
       "        vertical-align: middle;\n",
       "    }\n",
       "\n",
       "    .dataframe tbody tr th {\n",
       "        vertical-align: top;\n",
       "    }\n",
       "\n",
       "    .dataframe thead th {\n",
       "        text-align: right;\n",
       "    }\n",
       "</style>\n",
       "<table border=\"1\" class=\"dataframe\">\n",
       "  <thead>\n",
       "    <tr style=\"text-align: right;\">\n",
       "      <th></th>\n",
       "      <th>text</th>\n",
       "      <th>label</th>\n",
       "      <th>count</th>\n",
       "    </tr>\n",
       "  </thead>\n",
       "  <tbody>\n",
       "    <tr>\n",
       "      <th>0</th>\n",
       "      <td>Hello!</td>\n",
       "      <td>0</td>\n",
       "      <td>1</td>\n",
       "    </tr>\n",
       "    <tr>\n",
       "      <th>1</th>\n",
       "      <td>How can I help you?</td>\n",
       "      <td>1</td>\n",
       "      <td>5</td>\n",
       "    </tr>\n",
       "    <tr>\n",
       "      <th>2</th>\n",
       "      <td>Hi,</td>\n",
       "      <td>0</td>\n",
       "      <td>1</td>\n",
       "    </tr>\n",
       "    <tr>\n",
       "      <th>3</th>\n",
       "      <td>I would like to find a hotel.</td>\n",
       "      <td>1</td>\n",
       "      <td>7</td>\n",
       "    </tr>\n",
       "    <tr>\n",
       "      <th>4</th>\n",
       "      <td>Okay.</td>\n",
       "      <td>0</td>\n",
       "      <td>1</td>\n",
       "    </tr>\n",
       "  </tbody>\n",
       "</table>\n",
       "</div>"
      ],
      "text/plain": [
       "                            text  label  count\n",
       "0                         Hello!      0      1\n",
       "1            How can I help you?      1      5\n",
       "2                            Hi,      0      1\n",
       "3  I would like to find a hotel.      1      7\n",
       "4                          Okay.      0      1"
      ]
     },
     "metadata": {},
     "output_type": "display_data"
    },
    {
     "name": "stdout",
     "output_type": "stream",
     "text": [
      "\n",
      "\n",
      "Sentences\n",
      "['Hello!', 'How can I help you?', 'Hi,', 'I would like to find a hotel.', 'Okay.', 'else can you tell me about the hotel?', 'Find a hotel near the beachfront.', 'Okay beachfront in which town?', 'Oxnard California.', 'Okay.']\n",
      "Tokenized sentences\n",
      "['Hello!', 'How', 'can', 'I', 'help', 'you?', 'Hi,', 'I', 'would', 'like', 'to', 'find', 'a', 'hotel.', 'Okay.', 'else', 'can', 'you', 'tell', 'me']\n",
      "Labels\n",
      "[0, 0, 0, 0, 0, 1, 0, 0, 0, 0, 0, 0, 0, 1, 0, 0, 0, 0, 0, 0]\n",
      "\n",
      "\n",
      "Generated Sequences\n",
      "['Hello!', 'Hello! How', 'Hello! How can', 'Hello! How can I', 'Hello! How can I help', 'Hello! How can I help you?', 'Hi,', 'Hi, I', 'Hi, I would', 'Hi, I would like']\n",
      "Lables for each sequences\n",
      "[0, 0, 0, 0, 0, 1, 0, 0, 0, 0]\n",
      "The number of generated Sequences\n",
      "18057\n",
      "\n",
      "\n",
      "Datasets for training and evaluating models\n",
      "DatasetDict({\n",
      "    train: Dataset({\n",
      "        features: ['label', 'text'],\n",
      "        num_rows: 10834\n",
      "    })\n",
      "    test1: Dataset({\n",
      "        features: ['label', 'text'],\n",
      "        num_rows: 3611\n",
      "    })\n",
      "    test2: Dataset({\n",
      "        features: ['label', 'text'],\n",
      "        num_rows: 3612\n",
      "    })\n",
      "})\n",
      "\n"
     ]
    },
    {
     "data": {
      "application/vnd.jupyter.widget-view+json": {
       "model_id": "522d6fe6d9e64230b966fd3561a3b281",
       "version_major": 2,
       "version_minor": 0
      },
      "text/plain": [
       "Map:   0%|          | 0/10834 [00:00<?, ? examples/s]"
      ]
     },
     "metadata": {},
     "output_type": "display_data"
    },
    {
     "data": {
      "application/vnd.jupyter.widget-view+json": {
       "model_id": "243f29ceec304b069ec4876d00ec2f5d",
       "version_major": 2,
       "version_minor": 0
      },
      "text/plain": [
       "Map:   0%|          | 0/3611 [00:00<?, ? examples/s]"
      ]
     },
     "metadata": {},
     "output_type": "display_data"
    },
    {
     "data": {
      "application/vnd.jupyter.widget-view+json": {
       "model_id": "60814870ace24b20bee189e68b99b4f0",
       "version_major": 2,
       "version_minor": 0
      },
      "text/plain": [
       "Map:   0%|          | 0/3612 [00:00<?, ? examples/s]"
      ]
     },
     "metadata": {},
     "output_type": "display_data"
    },
    {
     "name": "stdout",
     "output_type": "stream",
     "text": [
      "\n",
      "\n",
      "Converted Sequences\n",
      "{'label': 0, 'text': \"Hi, this is Raja from California. I'd like to find out more about a hotel. I plan to stay at Park City Peaks\", 'input_ids': [101, 7632, 1010, 2023, 2003, 10164, 2013, 2662, 1012, 1045, 1005, 1040, 2066, 2000, 2424, 2041, 2062, 2055, 1037, 3309, 1012, 1045, 2933, 2000, 2994, 2012, 2380, 2103, 11373, 102], 'attention_mask': [1, 1, 1, 1, 1, 1, 1, 1, 1, 1, 1, 1, 1, 1, 1, 1, 1, 1, 1, 1, 1, 1, 1, 1, 1, 1, 1, 1, 1, 1]}\n",
      "\n"
     ]
    },
    {
     "name": "stderr",
     "output_type": "stream",
     "text": [
      "Some weights of the model checkpoint at distilbert-base-uncased were not used when initializing DistilBertForSequenceClassification: ['vocab_transform.weight', 'vocab_layer_norm.weight', 'vocab_layer_norm.bias', 'vocab_transform.bias', 'vocab_projector.bias', 'vocab_projector.weight']\n",
      "- This IS expected if you are initializing DistilBertForSequenceClassification from the checkpoint of a model trained on another task or with another architecture (e.g. initializing a BertForSequenceClassification model from a BertForPreTraining model).\n",
      "- This IS NOT expected if you are initializing DistilBertForSequenceClassification from the checkpoint of a model that you expect to be exactly identical (initializing a BertForSequenceClassification model from a BertForSequenceClassification model).\n",
      "Some weights of DistilBertForSequenceClassification were not initialized from the model checkpoint at distilbert-base-uncased and are newly initialized: ['classifier.weight', 'classifier.bias', 'pre_classifier.bias', 'pre_classifier.weight']\n",
      "You should probably TRAIN this model on a down-stream task to be able to use it for predictions and inference.\n",
      "The following columns in the training set don't have a corresponding argument in `DistilBertForSequenceClassification.forward` and have been ignored: text. If text are not expected by `DistilBertForSequenceClassification.forward`,  you can safely ignore this message.\n",
      "C:\\Users\\singg\\anaconda3\\lib\\site-packages\\transformers\\optimization.py:306: FutureWarning: This implementation of AdamW is deprecated and will be removed in a future version. Use the PyTorch implementation torch.optim.AdamW instead, or set `no_deprecation_warning=True` to disable this warning\n",
      "  warnings.warn(\n",
      "***** Running training *****\n",
      "  Num examples = 10834\n",
      "  Num Epochs = 2\n",
      "  Instantaneous batch size per device = 16\n",
      "  Total train batch size (w. parallel, distributed & accumulation) = 16\n",
      "  Gradient Accumulation steps = 1\n",
      "  Total optimization steps = 1356\n",
      "You're using a DistilBertTokenizerFast tokenizer. Please note that with a fast tokenizer, using the `__call__` method is faster than using a method to encode the text followed by a call to the `pad` method to get a padded encoding.\n"
     ]
    },
    {
     "data": {
      "text/html": [
       "\n",
       "    <div>\n",
       "      \n",
       "      <progress value='1356' max='1356' style='width:300px; height:20px; vertical-align: middle;'></progress>\n",
       "      [1356/1356 1:06:56, Epoch 2/2]\n",
       "    </div>\n",
       "    <table border=\"1\" class=\"dataframe\">\n",
       "  <thead>\n",
       " <tr style=\"text-align: left;\">\n",
       "      <th>Epoch</th>\n",
       "      <th>Training Loss</th>\n",
       "      <th>Validation Loss</th>\n",
       "      <th>Accuracy</th>\n",
       "    </tr>\n",
       "  </thead>\n",
       "  <tbody>\n",
       "    <tr>\n",
       "      <td>1</td>\n",
       "      <td>0.000400</td>\n",
       "      <td>0.098694</td>\n",
       "      <td>0.954860</td>\n",
       "    </tr>\n",
       "    <tr>\n",
       "      <td>2</td>\n",
       "      <td>0.000100</td>\n",
       "      <td>0.088414</td>\n",
       "      <td>0.959845</td>\n",
       "    </tr>\n",
       "  </tbody>\n",
       "</table><p>"
      ],
      "text/plain": [
       "<IPython.core.display.HTML object>"
      ]
     },
     "metadata": {},
     "output_type": "display_data"
    },
    {
     "name": "stderr",
     "output_type": "stream",
     "text": [
      "The following columns in the evaluation set don't have a corresponding argument in `DistilBertForSequenceClassification.forward` and have been ignored: text. If text are not expected by `DistilBertForSequenceClassification.forward`,  you can safely ignore this message.\n",
      "***** Running Evaluation *****\n",
      "  Num examples = 3611\n",
      "  Batch size = 64\n",
      "Saving model checkpoint to ./results\\checkpoint-678\n",
      "Configuration saved in ./results\\checkpoint-678\\config.json\n",
      "Model weights saved in ./results\\checkpoint-678\\pytorch_model.bin\n",
      "The following columns in the evaluation set don't have a corresponding argument in `DistilBertForSequenceClassification.forward` and have been ignored: text. If text are not expected by `DistilBertForSequenceClassification.forward`,  you can safely ignore this message.\n",
      "***** Running Evaluation *****\n",
      "  Num examples = 3611\n",
      "  Batch size = 64\n",
      "Saving model checkpoint to ./results\\checkpoint-1356\n",
      "Configuration saved in ./results\\checkpoint-1356\\config.json\n",
      "Model weights saved in ./results\\checkpoint-1356\\pytorch_model.bin\n",
      "\n",
      "\n",
      "Training completed. Do not forget to share your model on huggingface.co/models =)\n",
      "\n",
      "\n",
      "Loading best model from ./results\\checkpoint-1356 (score: 0.08841389417648315).\n",
      "Saving model checkpoint to ./model/bert_distilbert_seq_token\n",
      "Configuration saved in ./model/bert_distilbert_seq_token\\config.json\n",
      "Model weights saved in ./model/bert_distilbert_seq_token\\pytorch_model.bin\n"
     ]
    }
   ],
   "source": [
    "if __name__ == '__main__':\n",
    "    #============================================\n",
    "    #Generate a df from Data class from data_load\n",
    "    #A df contains \"texc\" column a sentence per a row and their lables(0: continue, 1: change)\n",
    "    path ='hotels.json'\n",
    "    data = Data(path)\n",
    "    load_dataset()\n",
    "    print(\"\\n\\nInitial Data\")\n",
    "    display(data.df[:3])\n",
    "    print(data.df.shape)\n",
    "    print(data.df['label'].value_counts())\n",
    "    #save initial df as a json file\n",
    "    df = data.df.to_json(\"df.json\")\n",
    "\n",
    "    #============================================\n",
    "    #Preprocessing data for modeling\n",
    "    #t = df.copy()\n",
    "    t = data.df.copy()\n",
    "    t = t[:4000]\n",
    "    #4000 rows were used which will generate sequences.\n",
    "    print(\"\\n\\nDataset to be used for modeling\")\n",
    "    print(t.shape)\n",
    "    display(t[:5])\n",
    "    #Converting columns to list for tokenizing\n",
    "\n",
    "    #Splitting setences to tokens and labeling tokens\n",
    "    train_dataset = Train_dataset(t) \n",
    "    train_dataset.test_text = t['text'].values\n",
    "    train_dataset.test_label = t['label'].values\n",
    "    \n",
    "    train_dataset.split_token_sentences()\n",
    "    train_dataset.tokenized_text_label = train_dataset.flatten_list(train_dataset.tokenized_text_label)\n",
    "    train_dataset.tokenized_text = train_dataset.flatten_list(train_dataset.tokenized_text)\n",
    "    print(\"\\n\\nSentences\")\n",
    "    print(train_dataset.text[:10])\n",
    "    print(\"Tokenized sentences\")\n",
    "    print(train_dataset.tokenized_text[:20])\n",
    "    print(\"Labels\")\n",
    "    print(train_dataset.tokenized_text_label[:20])\n",
    "\n",
    "    #Generating sequnces to be used for training by combining tokens and labeling the sequences\n",
    "    train_dataset.generate_test_dataset()\n",
    "    print(\"\\n\\nGenerated Sequences\")\n",
    "    print(train_dataset.sequences[:10])\n",
    "    print(\"Lables for each sequences\")\n",
    "    print(train_dataset.labels[:10])\n",
    "    print(\"The number of generated Sequences\")\n",
    "    print(len(train_dataset.sequences))\n",
    "\n",
    "    #Generating datasets for training, vaildating and testing\n",
    "    train_dataset.datasets_for_training()\n",
    "    print(\"\\n\\nDatasets for training and evaluating models\")\n",
    "    print(train_dataset.dataset, end=\"\\n\\n\")\n",
    "\n",
    "    #Applying DistilBertTokenizerFast for DistilBert model\n",
    "    dataset = train_dataset.dataset\n",
    "\n",
    "    tokenizer = DistilBertTokenizerFast.from_pretrained('distilbert-base-uncased', ignore_mismatched_sizes=True)\n",
    "    tokenized_dataset = dataset.map(preprocess_function, batched=True)\n",
    "    print(\"\\n\\nConverted Sequences\")\n",
    "    print(tokenized_dataset['train'][15], end=\"\\n\\n\")\n",
    "\n",
    "    #padding dataset\n",
    "    data_collator = DataCollatorWithPadding(tokenizer=tokenizer)\n",
    "\n",
    "    \n",
    "    #training and saving models\n",
    "    trainer1, trainer2 = training_model()\n",
    "    \n",
    "    #trainer1.evaluate()\n",
    "    #tarining modesl with preprocessed dataset\n",
    "    trainer1.train()\n",
    "    #evaluation trained model\n",
    "    #trainer1.evaluate()\n",
    "    #evaluation model with another dataset\n",
    "    #trainer2.evaluate()\n",
    "    trainer1.save_model('./model/bert_distilbert_seq_token')"
   ]
  },
  {
   "cell_type": "code",
   "execution_count": null,
   "id": "ee44b049",
   "metadata": {},
   "outputs": [],
   "source": []
  }
 ],
 "metadata": {
  "kernelspec": {
   "display_name": "Python 3 (ipykernel)",
   "language": "python",
   "name": "python3"
  },
  "language_info": {
   "codemirror_mode": {
    "name": "ipython",
    "version": 3
   },
   "file_extension": ".py",
   "mimetype": "text/x-python",
   "name": "python",
   "nbconvert_exporter": "python",
   "pygments_lexer": "ipython3",
   "version": "3.9.7"
  }
 },
 "nbformat": 4,
 "nbformat_minor": 5
}
